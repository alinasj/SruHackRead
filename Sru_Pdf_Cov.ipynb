{
 "cells": [
  {
   "cell_type": "code",
   "execution_count": 20,
   "metadata": {},
   "outputs": [],
   "source": [
    "from selenium import webdriver\n",
    "from selenium.webdriver.common.keys import Keys\n",
    "import pyscreenshot as ImageGrab\n",
    "import time\n",
    "from fpdf import FPDF\n",
    "\n",
    "napges = 75 #enter pages to be copied\n",
    "username = \"\" #enter login user\n",
    "password = \"\" #enter password\n",
    "driver = webdriver.Chrome()\n",
    "driver.get(\"https://archive.org/account/login?referer=https%3A%2F%2Farchive.org%2Fdetails%2Flovesongsofnewki00fost\")\n",
    "driver.find_element_by_name(\"username\").send_keys(username)\n",
    "driver.find_element_by_name (\"password\").send_keys(password)\n",
    "driver.find_element_by_name(\"submit-to-login\").click()\n",
    "time.sleep(10)"
   ]
  },
  {
   "cell_type": "code",
   "execution_count": 21,
   "metadata": {},
   "outputs": [],
   "source": [
    "for i in range(npages):\n",
    "    driver.find_element_by_xpath(\"//*[@id='BookReader']/div[4]/div[2]/div[3]/button[2]\").click()\n",
    "    time.sleep(5)\n",
    "    im = ImageGrab.grab(bbox=(2400, 300, 3400, 980))  # X1,Y1,X2,Y2\n",
    "    im.save(\"{}.png\".format(i))"
   ]
  },
  {
   "cell_type": "code",
   "execution_count": 22,
   "metadata": {},
   "outputs": [
    {
     "data": {
      "text/plain": [
       "''"
      ]
     },
     "execution_count": 22,
     "metadata": {},
     "output_type": "execute_result"
    }
   ],
   "source": [
    "pdf = FPDF(orientation = 'L',  format='A3')\n",
    "\n",
    "imagelist = []\n",
    "for i in range(npages):\n",
    "    imagelist.append(\"{}.png\".format(i)) \n",
    "for image in imagelist:\n",
    "    pdf.add_page()\n",
    "    pdf.image(image)\n",
    "pdf.output(\"l.pdf\", \"F\")"
   ]
  },
  {
   "cell_type": "code",
   "execution_count": 23,
   "metadata": {},
   "outputs": [
    {
     "data": {
      "text/plain": [
       "<bound method WebDriver.close of <selenium.webdriver.chrome.webdriver.WebDriver (session=\"f0a124278e256d24c84c92bc5ec29326\")>>"
      ]
     },
     "execution_count": 23,
     "metadata": {},
     "output_type": "execute_result"
    }
   ],
   "source": [
    "driver.quit()"
   ]
  },
  {
   "cell_type": "code",
   "execution_count": null,
   "metadata": {},
   "outputs": [],
   "source": []
  }
 ],
 "metadata": {
  "kernelspec": {
   "display_name": "Python 3",
   "language": "python",
   "name": "python3"
  },
  "language_info": {
   "codemirror_mode": {
    "name": "ipython",
    "version": 3
   },
   "file_extension": ".py",
   "mimetype": "text/x-python",
   "name": "python",
   "nbconvert_exporter": "python",
   "pygments_lexer": "ipython3",
   "version": "3.7.6"
  }
 },
 "nbformat": 4,
 "nbformat_minor": 4
}
